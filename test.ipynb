{
 "cells": [
  {
   "cell_type": "code",
   "execution_count": 1,
   "metadata": {},
   "outputs": [
    {
     "name": "stderr",
     "output_type": "stream",
     "text": [
      "/home/ubuntu/miniconda3/envs/llm-gateway/lib/python3.12/site-packages/urllib3/connectionpool.py:1099: InsecureRequestWarning: Unverified HTTPS request is being made to host 'localhost'. Adding certificate verification is strongly advised. See: https://urllib3.readthedocs.io/en/latest/advanced-usage.html#tls-warnings\n",
      "  warnings.warn(\n",
      "/home/ubuntu/miniconda3/envs/llm-gateway/lib/python3.12/site-packages/urllib3/connectionpool.py:1099: InsecureRequestWarning: Unverified HTTPS request is being made to host 'localhost'. Adding certificate verification is strongly advised. See: https://urllib3.readthedocs.io/en/latest/advanced-usage.html#tls-warnings\n",
      "  warnings.warn(\n"
     ]
    },
    {
     "name": "stdout",
     "output_type": "stream",
     "text": [
      "1\n",
      "200\n"
     ]
    },
    {
     "ename": "NameError",
     "evalue": "name 'stop' is not defined",
     "output_type": "error",
     "traceback": [
      "\u001b[0;31m---------------------------------------------------------------------------\u001b[0m",
      "\u001b[0;31mNameError\u001b[0m                                 Traceback (most recent call last)",
      "Cell \u001b[0;32mIn[1], line 35\u001b[0m\n\u001b[1;32m     32\u001b[0m \u001b[38;5;28mprint\u001b[39m(res_check\u001b[38;5;241m.\u001b[39mstatus_code)\n\u001b[1;32m     34\u001b[0m response \u001b[38;5;241m=\u001b[39m requests\u001b[38;5;241m.\u001b[39mpost(\u001b[38;5;124mf\u001b[39m\u001b[38;5;124m\"\u001b[39m\u001b[38;5;132;01m{\u001b[39;00mendpoint\u001b[38;5;132;01m}\u001b[39;00m\u001b[38;5;124m/transcribe\u001b[39m\u001b[38;5;124m\"\u001b[39m, files\u001b[38;5;241m=\u001b[39mfiles, data\u001b[38;5;241m=\u001b[39mdata, headers\u001b[38;5;241m=\u001b[39mheaders, verify\u001b[38;5;241m=\u001b[39m\u001b[38;5;28;01mFalse\u001b[39;00m)\n\u001b[0;32m---> 35\u001b[0m \u001b[43mstop\u001b[49m\n\u001b[1;32m     36\u001b[0m \u001b[38;5;28;01mif\u001b[39;00m response\u001b[38;5;241m.\u001b[39mstatus_code \u001b[38;5;241m==\u001b[39m \u001b[38;5;241m201\u001b[39m:\n\u001b[1;32m     37\u001b[0m     result \u001b[38;5;241m=\u001b[39m response\u001b[38;5;241m.\u001b[39mjson()\n",
      "\u001b[0;31mNameError\u001b[0m: name 'stop' is not defined"
     ]
    }
   ],
   "source": [
    "import requests\n",
    "import json\n",
    "import time\n",
    "url = \"http://localhost/stt-french-whisper-v3/transcribe\"\n",
    "\n",
    "audio_path = \"/home/ubuntu/projects/linto-diarization/data_SUMMRE/004b_PADH.wav\"\n",
    "\n",
    "\n",
    "files = {\n",
    "    'file': ('audio.wav', open(audio_path, 'rb'), 'audio/wav')\n",
    "}\n",
    "diariz_conf = {\n",
    "\"punctuationConfig\": {\n",
    "    \"enablePunctuation\": False, # Applies punctuation\n",
    "    \"serviceName\": None # Force serviceName (See SubService resolution)\n",
    "},\n",
    "\"enablePunctuation\": False, # Applies punctuation (Do not use, kept for backward compatibility)\n",
    "\"diarizationConfig\": {\n",
    "    \"enableDiarization\": True, #Enables speaker diarization\n",
    "}\n",
    "}\n",
    "data = {\n",
    "    'transcriptionConfig': json.dumps(diariz_conf)\n",
    "}\n",
    "\n",
    "headers = {\n",
    "    'Accept': 'application/json'\n",
    "}\n",
    "endpoint = \"https://localhost/stt-french-whisper-v3\"\n",
    "res_check = requests.get(f\"{endpoint}/healthcheck\", headers=headers, verify=False)\n",
    "print(res_check.text)\n",
    "print(res_check.status_code)\n",
    "\n",
    "response = requests.post(f\"{endpoint}/transcribe\", files=files, data=data, headers=headers, verify=False)\n",
    "stop\n",
    "if response.status_code == 201:\n",
    "    result = response.json()\n",
    "    print(\"Transcription lancée avec succès. Job ID:\", result['jobid'])\n",
    "else:\n",
    "    print(\"Erreur lors de la requête:\", response.status_code, response.text)\n",
    "\n",
    "job_id = result['jobid']\n",
    "job_status_url = f\"{endpoint}/job/{job_id}\"\n",
    "\n",
    "job_response = requests.get(job_status_url,headers=headers, verify=False)\n",
    "if job_response.status_code == 202 or job_response.status_code == 201:\n",
    "    job_status = job_response.json()\n",
    "    print(\"Statut du job:\", job_status)\n",
    "    while (status := requests.get(job_status_url,headers=headers, verify=False)).json()['state'] != 'done' :\n",
    "        time.sleep(30)\n",
    "        print(status)\n",
    "        if status == 'failed':\n",
    "            break\n",
    "    job_response = requests.get(job_status_url,headers=headers,verify=False)\n",
    "    job_status = job_response.json()\n",
    "    \n",
    "else:\n",
    "    print(\"Erreur lors de la vérification du statut:\", job_response.status_code, job_response.text)\n",
    "result_id = job_status['result_id']\n",
    "result_url = f\"{endpoint}/results/{result_id}\"\n",
    "result_response = requests.get(result_url,headers=headers, verify=False)\n",
    "print(result_response.text)"
   ]
  },
  {
   "cell_type": "code",
   "execution_count": 40,
   "metadata": {},
   "outputs": [
    {
     "data": {
      "text/plain": [
       "'Gateway Timeout'"
      ]
     },
     "execution_count": 40,
     "metadata": {},
     "output_type": "execute_result"
    }
   ],
   "source": [
    "status.text"
   ]
  },
  {
   "cell_type": "code",
   "execution_count": 7,
   "metadata": {},
   "outputs": [
    {
     "name": "stdout",
     "output_type": "stream",
     "text": [
      "Transcription lancée avec succès. Job ID: 52fee215-919b-4544-85a0-c1ffc7d03754\n"
     ]
    },
    {
     "name": "stderr",
     "output_type": "stream",
     "text": [
      "/home/ubuntu/miniconda3/envs/llm-gateway/lib/python3.12/site-packages/urllib3/connectionpool.py:1099: InsecureRequestWarning: Unverified HTTPS request is being made to host 'localhost'. Adding certificate verification is strongly advised. See: https://urllib3.readthedocs.io/en/latest/advanced-usage.html#tls-warnings\n",
      "  warnings.warn(\n"
     ]
    },
    {
     "data": {
      "text/plain": [
       "'{\"state\": \"started\", \"steps\": {\"diarization\": {\"progress\": 0.0, \"required\": true, \"status\": \"started\"}, \"postprocessing\": {\"progress\": 0.0, \"required\": true, \"status\": \"pending\"}, \"preprocessing\": {\"progress\": 1.0, \"required\": true, \"status\": \"done\"}, \"punctuation\": {\"required\": false}, \"transcription\": {\"progress\": 1.0, \"required\": true, \"status\": \"done\"}}}'"
      ]
     },
     "execution_count": 7,
     "metadata": {},
     "output_type": "execute_result"
    }
   ],
   "source": [
    "if response.status_code == 201:\n",
    "    result = response.json()\n",
    "    print(\"Transcription lancée avec succès. Job ID:\", result['jobid'])\n",
    "else:\n",
    "    print(\"Erreur lors de la requête:\", response.status_code, response.text)\n",
    "\n",
    "job_id = result['jobid']\n",
    "job_status_url = f\"{endpoint}/job/{job_id}\"\n",
    "job_response = requests.get(job_status_url,headers=headers, verify=False)\n",
    "job_response.text"
   ]
  },
  {
   "cell_type": "code",
   "execution_count": null,
   "metadata": {},
   "outputs": [],
   "source": []
  },
  {
   "cell_type": "code",
   "execution_count": 45,
   "metadata": {},
   "outputs": [
    {
     "name": "stderr",
     "output_type": "stream",
     "text": [
      "/home/ubuntu/miniconda3/envs/llm-gateway/lib/python3.12/site-packages/urllib3/connectionpool.py:1099: InsecureRequestWarning: Unverified HTTPS request is being made to host 'localhost'. Adding certificate verification is strongly advised. See: https://urllib3.readthedocs.io/en/latest/advanced-usage.html#tls-warnings\n",
      "  warnings.warn(\n"
     ]
    }
   ],
   "source": [
    "result_id = job_response.json()['result_id']\n",
    "\n",
    "result_url = f\"{endpoint}/results/{result_id}\"\n",
    "result_response = requests.get(result_url,headers=headers, verify=False)"
   ]
  },
  {
   "cell_type": "code",
   "execution_count": 52,
   "metadata": {},
   "outputs": [
    {
     "name": "stderr",
     "output_type": "stream",
     "text": [
      "/home/ubuntu/miniconda3/envs/llm-gateway/lib/python3.12/site-packages/urllib3/connectionpool.py:1099: InsecureRequestWarning: Unverified HTTPS request is being made to host 'localhost'. Adding certificate verification is strongly advised. See: https://urllib3.readthedocs.io/en/latest/advanced-usage.html#tls-warnings\n",
      "  warnings.warn(\n"
     ]
    }
   ],
   "source": [
    "job_status_url = f\"{endpoint}/job/{job_id}\"\n",
    "\n",
    "job_response = requests.get(job_status_url,headers=headers, verify=False)"
   ]
  },
  {
   "cell_type": "code",
   "execution_count": null,
   "metadata": {},
   "outputs": [],
   "source": []
  }
 ],
 "metadata": {
  "kernelspec": {
   "display_name": "llm-gateway",
   "language": "python",
   "name": "python3"
  },
  "language_info": {
   "codemirror_mode": {
    "name": "ipython",
    "version": 3
   },
   "file_extension": ".py",
   "mimetype": "text/x-python",
   "name": "python",
   "nbconvert_exporter": "python",
   "pygments_lexer": "ipython3",
   "version": "3.12.2"
  }
 },
 "nbformat": 4,
 "nbformat_minor": 2
}
